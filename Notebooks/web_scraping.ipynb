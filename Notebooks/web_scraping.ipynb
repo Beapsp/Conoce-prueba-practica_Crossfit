{
 "cells": [
  {
   "cell_type": "code",
   "execution_count": null,
   "id": "7d30697e",
   "metadata": {},
   "outputs": [],
   "source": [
    "from selenium import webdriver\n",
    "from selenium.webdriver.chrome.options import Options\n",
    "import time\n",
    "import pandas as pd\n",
    "from selenium.webdriver.support.ui import Select\n",
    "from webdriver_manager.chrome import ChromeDriverManager\n",
    "import re\n",
    "import plotly.express as px\n",
    "import plotly.graph_objects as go"
   ]
  },
  {
   "cell_type": "code",
   "execution_count": null,
   "id": "dcd68548",
   "metadata": {},
   "outputs": [],
   "source": [
    "opciones=Options()\n",
    "\n",
    "opciones.add_experimental_option('excludeSwitches', ['enable-automation'])\n",
    "opciones.add_experimental_option('useAutomationExtension', False)\n",
    "\n",
    "opciones.headless=False    # si True, no aperece la ventana (headless=no visible)\n",
    "\n",
    "opciones.add_argument('--start-maximized')         # comienza maximizado\n",
    "\n",
    "#opciones.add_argument('user-data-dir=selenium')    # mantiene las cookies\n",
    "\n",
    "#opciones.add_extension('driver_folder/adblock.crx')       # adblocker\n",
    "\n",
    "opciones.add_argument('--incognito')     "
   ]
  },
  {
   "cell_type": "code",
   "execution_count": 51,
   "id": "ebc4e2db",
   "metadata": {},
   "outputs": [
    {
     "name": "stderr",
     "output_type": "stream",
     "text": [
      "<ipython-input-51-411d9437c77c>:2: DeprecationWarning: executable_path has been deprecated, please pass in a Service object\n",
      "  driver = webdriver.Chrome(driver, options = opciones)\n",
      "<ipython-input-51-411d9437c77c>:7: DeprecationWarning: find_element_by_* commands are deprecated. Please use find_element() instead\n",
      "  driver.find_element_by_css_selector(\"#modal > div > div > button\").click()\n",
      "<ipython-input-51-411d9437c77c>:15: DeprecationWarning: find_element_by_* commands are deprecated. Please use find_element() instead\n",
      "  driver.find_element_by_css_selector(\"#main > div:nth-child(4) > section > div > button\").click()\n",
      "<ipython-input-51-411d9437c77c>:23: DeprecationWarning: find_element_by_* commands are deprecated. Please use find_element() instead\n",
      "  movimientos.append(driver.find_element_by_css_selector(f\"#main > div:nth-child(4) > section > article:nth-child({i}) > div > div > a:nth-child(1) > h2\").text)\n"
     ]
    }
   ],
   "source": [
    "driver = \"./chromedriver.exe\"\n",
    "driver = webdriver.Chrome(driver, options = opciones)\n",
    "url = \"https://www.crossfit.com/essentials/movements/\"\n",
    "driver.get(url)\n",
    "\n",
    "driver.implicitly_wait(2)\n",
    "driver.find_element_by_css_selector(\"#modal > div > div > button\").click()\n",
    "\n",
    "movimientos = []\n",
    "videos = []\n",
    "for i in range (1,143):\n",
    "    try:\n",
    "\n",
    "        driver.execute_script(\"window.scrollTo(0, window.scrollY + 300)\")\n",
    "        driver.find_element_by_css_selector(\"#main > div:nth-child(4) > section > div > button\").click()\n",
    "        driver.execute_script(\"window.scrollTo(0, window.scrollY + 300)\")\n",
    "    except:\n",
    "        break\n",
    "\n",
    "for i in range (1,143):\n",
    "    try:   \n",
    "        movimientos.append(driver.find_element_by_css_selector(f\"#main > div:nth-child(4) > section > article:nth-child({i}) > div > div > a:nth-child(1) > h2\").text)\n",
    "        \n",
    "    except:\n",
    "        break\n",
    "        \n",
    "    \n"
   ]
  },
  {
   "cell_type": "code",
   "execution_count": 53,
   "id": "77d7b09c",
   "metadata": {},
   "outputs": [
    {
     "data": {
      "text/plain": [
       "142"
      ]
     },
     "execution_count": 53,
     "metadata": {},
     "output_type": "execute_result"
    }
   ],
   "source": [
    "len(movimientos)"
   ]
  },
  {
   "cell_type": "code",
   "execution_count": 55,
   "id": "d08b1696",
   "metadata": {},
   "outputs": [
    {
     "name": "stderr",
     "output_type": "stream",
     "text": [
      "<ipython-input-55-f2559e992ae5>:2: DeprecationWarning: executable_path has been deprecated, please pass in a Service object\n",
      "  driver = webdriver.Chrome(driver, options = opciones)\n",
      "<ipython-input-55-f2559e992ae5>:7: DeprecationWarning: find_element_by_* commands are deprecated. Please use find_element() instead\n",
      "  driver.find_element_by_css_selector(\"#modal > div > div > button\").click()\n",
      "<ipython-input-55-f2559e992ae5>:15: DeprecationWarning: find_element_by_* commands are deprecated. Please use find_element() instead\n",
      "  driver.find_element_by_css_selector(\"#main > div:nth-child(4) > section > div > button\").click()\n",
      "<ipython-input-55-f2559e992ae5>:22: DeprecationWarning: find_element_by_* commands are deprecated. Please use find_element() instead\n",
      "  movimientos.append(driver.find_element_by_css_selector(f\"#main > div:nth-child(4) > section > article:nth-child({i}) > div > div > a:nth-child(1) > h2\").text)\n",
      "<ipython-input-55-f2559e992ae5>:23: DeprecationWarning: find_element_by_* commands are deprecated. Please use find_element() instead\n",
      "  videos.append(driver.find_element_by_css_selector(f\" #ytPlayer{i}\").text)\n"
     ]
    }
   ],
   "source": [
    "driver = \"./chromedriver.exe\"\n",
    "driver = webdriver.Chrome(driver, options = opciones)\n",
    "url = \"https://www.crossfit.com/essentials/movements/\"\n",
    "driver.get(url)\n",
    "\n",
    "driver.implicitly_wait(2)\n",
    "driver.find_element_by_css_selector(\"#modal > div > div > button\").click()\n",
    "\n",
    "movimientos = []\n",
    "videos = []\n",
    "for i in range (1,143):\n",
    "    try:\n",
    "\n",
    "        driver.execute_script(\"window.scrollTo(0, window.scrollY + 300)\")\n",
    "        driver.find_element_by_css_selector(\"#main > div:nth-child(4) > section > div > button\").click()\n",
    "        driver.execute_script(\"window.scrollTo(0, window.scrollY + 300)\")\n",
    "    except:\n",
    "        break\n",
    "\n",
    "for i in range (1,143):\n",
    "    try:   \n",
    "        movimientos.append(driver.find_element_by_css_selector(f\"#main > div:nth-child(4) > section > article:nth-child({i}) > div > div > a:nth-child(1) > h2\").text)\n",
    "        videos.append(driver.find_element_by_css_selector(f\"#ytPlayer{i}\").text)\n",
    "    except:\n",
    "        break\n",
    "        \n",
    "head > link:nth-child(11)\n",
    "    \n",
    "    \n",
    "    \n",
    "    #ytPlayer-rfr-Tw3Pxh8\n",
    "    \n",
    "    #ytPlayer-7EmwtpAI8cM\n",
    "                                                        \n",
    "    #ytPlayer-FRiiZRhapeU\n"
   ]
  },
  {
   "cell_type": "code",
   "execution_count": 57,
   "id": "590bcfa2",
   "metadata": {},
   "outputs": [
    {
     "data": {
      "text/plain": [
       "[]"
      ]
     },
     "execution_count": 57,
     "metadata": {},
     "output_type": "execute_result"
    }
   ],
   "source": [
    "videos"
   ]
  },
  {
   "cell_type": "code",
   "execution_count": null,
   "id": "f7672a8d",
   "metadata": {},
   "outputs": [],
   "source": [
    "#main > div:nth-child(4) > section > article:nth-child(20) > div > div > a:nth-child(1) > h2\n",
    "\n",
    "#main > div:nth-child(4) > section > article:nth-child(19) > div > div > a:nth-child(1) > h2"
   ]
  }
 ],
 "metadata": {
  "kernelspec": {
   "display_name": "ironhack",
   "language": "python",
   "name": "ironhack"
  },
  "language_info": {
   "codemirror_mode": {
    "name": "ipython",
    "version": 3
   },
   "file_extension": ".py",
   "mimetype": "text/x-python",
   "name": "python",
   "nbconvert_exporter": "python",
   "pygments_lexer": "ipython3",
   "version": "3.8.5"
  }
 },
 "nbformat": 4,
 "nbformat_minor": 5
}
