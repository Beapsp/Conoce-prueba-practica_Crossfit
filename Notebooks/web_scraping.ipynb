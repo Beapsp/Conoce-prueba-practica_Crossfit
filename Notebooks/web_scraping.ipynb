{
 "cells": [
  {
   "cell_type": "code",
   "execution_count": null,
   "id": "9e136f90",
   "metadata": {},
   "outputs": [],
   "source": [
    "from selenium import webdriver\n",
    "from selenium.webdriver.chrome.options import Options\n",
    "import time\n",
    "import pandas as pd\n",
    "from selenium.webdriver.support.ui import Select\n",
    "from webdriver_manager.chrome import ChromeDriverManager\n",
    "import re\n",
    "import plotly.express as px\n",
    "import plotly.graph_objects as go"
   ]
  },
  {
   "cell_type": "code",
   "execution_count": null,
   "id": "24cfd595",
   "metadata": {},
   "outputs": [],
   "source": [
    "opciones=Options()\n",
    "\n",
    "opciones.add_experimental_option('excludeSwitches', ['enable-automation'])\n",
    "opciones.add_experimental_option('useAutomationExtension', False)\n",
    "\n",
    "opciones.headless=False    # si True, no aperece la ventana (headless=no visible)\n",
    "\n",
    "opciones.add_argument('--start-maximized')         # comienza maximizado\n",
    "\n",
    "#opciones.add_argument('user-data-dir=selenium')    # mantiene las cookies\n",
    "\n",
    "#opciones.add_extension('driver_folder/adblock.crx')       # adblocker\n",
    "\n",
    "opciones.add_argument('--incognito')     "
   ]
  },
  {
   "cell_type": "code",
   "execution_count": 92,
   "id": "738affb2",
   "metadata": {},
   "outputs": [
    {
     "name": "stderr",
     "output_type": "stream",
     "text": [
      "<ipython-input-92-9674ec7c9d5c>:2: DeprecationWarning: executable_path has been deprecated, please pass in a Service object\n",
      "  driver = webdriver.Chrome(driver, options = opciones)\n",
      "<ipython-input-92-9674ec7c9d5c>:7: DeprecationWarning: find_element_by_* commands are deprecated. Please use find_element() instead\n",
      "  driver.find_element_by_css_selector(\"#modal > div > div > button\").click()\n",
      "<ipython-input-92-9674ec7c9d5c>:15: DeprecationWarning: find_element_by_* commands are deprecated. Please use find_element() instead\n",
      "  driver.find_element_by_css_selector(\"#main > div:nth-child(4) > section > div > button\").click()\n",
      "<ipython-input-92-9674ec7c9d5c>:22: DeprecationWarning: find_element_by_* commands are deprecated. Please use find_element() instead\n",
      "  nombre = (driver.find_element_by_css_selector(f\"#main > div:nth-child(4) > section > article:nth-child({i}) > div > div > a:nth-child(1) > h2\").text)\n",
      "<ipython-input-92-9674ec7c9d5c>:23: DeprecationWarning: find_element_by_* commands are deprecated. Please use find_element() instead\n",
      "  enlace = (driver.find_element_by_css_selector(f\"#main > div:nth-child(4) > section > article:nth-child({i}) > div > div > a._wrapper_1cinr_17.comment-icon-link._comments-button_1ufrc_130\").get_attribute(\"href\"))\n",
      "<ipython-input-92-9674ec7c9d5c>:24: DeprecationWarning: find_element_by_* commands are deprecated. Please use find_element() instead\n",
      "  urls.append(driver.find_element_by_css_selector(f\"#main > div:nth-child(4) > section > article:nth-child({i}) > div > div > a._wrapper_1cinr_17.comment-icon-link._comments-button_1ufrc_130\").get_attribute(\"href\"))\n"
     ]
    }
   ],
   "source": [
    "driver = \"./chromedriver.exe\"\n",
    "driver = webdriver.Chrome(driver, options = opciones)\n",
    "url = \"https://www.crossfit.com/essentials/movements/\"\n",
    "driver.get(url)\n",
    "\n",
    "driver.implicitly_wait(2)\n",
    "driver.find_element_by_css_selector(\"#modal > div > div > button\").click()\n",
    "\n",
    "movimientos = []\n",
    "urls = []\n",
    "link = []\n",
    "for i in range (1,143):\n",
    "    try:\n",
    "\n",
    "        driver.execute_script(\"window.scrollTo(0, window.scrollY + 300)\")\n",
    "        driver.find_element_by_css_selector(\"#main > div:nth-child(4) > section > div > button\").click()\n",
    "        driver.execute_script(\"window.scrollTo(0, window.scrollY + 300)\")\n",
    "    except:\n",
    "        break\n",
    "\n",
    "for i in range (1,143):\n",
    "    try:   \n",
    "        nombre = (driver.find_element_by_css_selector(f\"#main > div:nth-child(4) > section > article:nth-child({i}) > div > div > a:nth-child(1) > h2\").text)\n",
    "        enlace = (driver.find_element_by_css_selector(f\"#main > div:nth-child(4) > section > article:nth-child({i}) > div > div > a._wrapper_1cinr_17.comment-icon-link._comments-button_1ufrc_130\").get_attribute(\"href\"))\n",
    "        urls.append(driver.find_element_by_css_selector(f\"#main > div:nth-child(4) > section > article:nth-child({i}) > div > div > a._wrapper_1cinr_17.comment-icon-link._comments-button_1ufrc_130\").get_attribute(\"href\"))\n",
    "        #movimientos.append(driver.find_element_by_css_selector(f\"#main > div:nth-child(4) > section > article:nth-child({i}) > div > div > a:nth-child(1) > h2\").text) \n",
    "        movimientos.append({nombre:enlace})\n",
    "    except:\n",
    "        break\n",
    "        \n",
    "for i in urls:\n",
    "        link.append (driver.find_element_by_css_selector(\"#main > div._wrapper_1aue2_17._full-width_1aue2_29 > div\").get_attribute('src'))\n",
    "#ytPlayer-FRiiZRhapeU"
   ]
  },
  {
   "cell_type": "code",
   "execution_count": 119,
   "id": "ccc6bbfa",
   "metadata": {},
   "outputs": [],
   "source": [
    "import time\n",
    "import requests \n",
    "from bs4 import BeautifulSoup"
   ]
  },
  {
   "cell_type": "code",
   "execution_count": 122,
   "id": "2bea051d",
   "metadata": {},
   "outputs": [],
   "source": [
    "html = requests.get(\"https://www.crossfit.com/essentials/the-rope-climb-basket?topicId=article.20210209132636974\")\n",
    "soup = BeautifulSoup(html.content, \"html.parser\")"
   ]
  },
  {
   "cell_type": "code",
   "execution_count": 149,
   "id": "5c782b82",
   "metadata": {},
   "outputs": [],
   "source": [
    "enlaces = soup.findAll(\"link\", {'rel':'canonical'})"
   ]
  },
  {
   "cell_type": "code",
   "execution_count": 150,
   "id": "01f1d8a0",
   "metadata": {},
   "outputs": [
    {
     "name": "stdout",
     "output_type": "stream",
     "text": [
      "[]\n"
     ]
    }
   ],
   "source": [
    "print(enlaces)"
   ]
  },
  {
   "cell_type": "code",
   "execution_count": 157,
   "id": "6a695dac",
   "metadata": {},
   "outputs": [
    {
     "name": "stderr",
     "output_type": "stream",
     "text": [
      "<ipython-input-157-26250c38d35c>:4: DeprecationWarning: executable_path has been deprecated, please pass in a Service object\n",
      "  driver = webdriver.Chrome(driver, options = opciones)\n",
      "<ipython-input-157-26250c38d35c>:12: DeprecationWarning: find_element_by_* commands are deprecated. Please use find_element() instead\n",
      "  link.append(driver.find_element_by_class_name(\"_hero-video_1fikz_124 _tall_1fikz_139\").text)\n"
     ]
    },
    {
     "ename": "NoSuchElementException",
     "evalue": "Message: no such element: Unable to locate element: {\"method\":\"css selector\",\"selector\":\"._hero-video_1fikz_124 _tall_1fikz_139\"}\n  (Session info: chrome=96.0.4664.45)\nStacktrace:\nBacktrace:\n\tOrdinal0 [0x006D6903+2517251]\n\tOrdinal0 [0x0066F8E1+2095329]\n\tOrdinal0 [0x00572848+1058888]\n\tOrdinal0 [0x0059D448+1233992]\n\tOrdinal0 [0x0059D63B+1234491]\n\tOrdinal0 [0x005C7812+1406994]\n\tOrdinal0 [0x005B650A+1336586]\n\tOrdinal0 [0x005C5BBF+1399743]\n\tOrdinal0 [0x005B639B+1336219]\n\tOrdinal0 [0x005927A7+1189799]\n\tOrdinal0 [0x00593609+1193481]\n\tGetHandleVerifier [0x00865904+1577972]\n\tGetHandleVerifier [0x00910B97+2279047]\n\tGetHandleVerifier [0x00766D09+534521]\n\tGetHandleVerifier [0x00765DB9+530601]\n\tOrdinal0 [0x00674FF9+2117625]\n\tOrdinal0 [0x006798A8+2136232]\n\tOrdinal0 [0x006799E2+2136546]\n\tOrdinal0 [0x00683541+2176321]\n\tBaseThreadInitThunk [0x75ADFA29+25]\n\tRtlGetAppContainerNamedObjectPath [0x77777A9E+286]\n\tRtlGetAppContainerNamedObjectPath [0x77777A6E+238]\n",
     "output_type": "error",
     "traceback": [
      "\u001b[0;31m---------------------------------------------------------------------------\u001b[0m",
      "\u001b[0;31mNoSuchElementException\u001b[0m                    Traceback (most recent call last)",
      "\u001b[0;32m<ipython-input-157-26250c38d35c>\u001b[0m in \u001b[0;36m<module>\u001b[0;34m\u001b[0m\n\u001b[1;32m     10\u001b[0m     \u001b[0mdriver\u001b[0m\u001b[0;34m.\u001b[0m\u001b[0mget\u001b[0m\u001b[0;34m(\u001b[0m\u001b[0mi\u001b[0m\u001b[0;34m)\u001b[0m\u001b[0;34m\u001b[0m\u001b[0;34m\u001b[0m\u001b[0m\n\u001b[1;32m     11\u001b[0m     \u001b[0mdriver\u001b[0m\u001b[0;34m.\u001b[0m\u001b[0mimplicitly_wait\u001b[0m\u001b[0;34m(\u001b[0m\u001b[0;36m5\u001b[0m\u001b[0;34m)\u001b[0m\u001b[0;34m\u001b[0m\u001b[0;34m\u001b[0m\u001b[0m\n\u001b[0;32m---> 12\u001b[0;31m     \u001b[0mlink\u001b[0m\u001b[0;34m.\u001b[0m\u001b[0mappend\u001b[0m\u001b[0;34m(\u001b[0m\u001b[0mdriver\u001b[0m\u001b[0;34m.\u001b[0m\u001b[0mfind_element_by_class_name\u001b[0m\u001b[0;34m(\u001b[0m\u001b[0;34m\"_hero-video_1fikz_124 _tall_1fikz_139\"\u001b[0m\u001b[0;34m)\u001b[0m\u001b[0;34m.\u001b[0m\u001b[0mtext\u001b[0m\u001b[0;34m)\u001b[0m\u001b[0;34m\u001b[0m\u001b[0;34m\u001b[0m\u001b[0m\n\u001b[0m\u001b[1;32m     13\u001b[0m     \u001b[0mdriver\u001b[0m\u001b[0;34m.\u001b[0m\u001b[0mimplicitly_wait\u001b[0m\u001b[0;34m(\u001b[0m\u001b[0;36m5\u001b[0m\u001b[0;34m)\u001b[0m\u001b[0;34m\u001b[0m\u001b[0;34m\u001b[0m\u001b[0m\n\u001b[1;32m     14\u001b[0m     \u001b[0mdriver\u001b[0m\u001b[0;34m.\u001b[0m\u001b[0mquit\u001b[0m\u001b[0;34m(\u001b[0m\u001b[0;34m)\u001b[0m\u001b[0;34m\u001b[0m\u001b[0;34m\u001b[0m\u001b[0m\n",
      "\u001b[0;32m~/.local/lib/python3.8/site-packages/selenium/webdriver/remote/webdriver.py\u001b[0m in \u001b[0;36mfind_element_by_class_name\u001b[0;34m(self, name)\u001b[0m\n\u001b[1;32m    752\u001b[0m             \u001b[0mstacklevel\u001b[0m\u001b[0;34m=\u001b[0m\u001b[0;36m2\u001b[0m\u001b[0;34m,\u001b[0m\u001b[0;34m\u001b[0m\u001b[0;34m\u001b[0m\u001b[0m\n\u001b[1;32m    753\u001b[0m         )\n\u001b[0;32m--> 754\u001b[0;31m         \u001b[0;32mreturn\u001b[0m \u001b[0mself\u001b[0m\u001b[0;34m.\u001b[0m\u001b[0mfind_element\u001b[0m\u001b[0;34m(\u001b[0m\u001b[0mby\u001b[0m\u001b[0;34m=\u001b[0m\u001b[0mBy\u001b[0m\u001b[0;34m.\u001b[0m\u001b[0mCLASS_NAME\u001b[0m\u001b[0;34m,\u001b[0m \u001b[0mvalue\u001b[0m\u001b[0;34m=\u001b[0m\u001b[0mname\u001b[0m\u001b[0;34m)\u001b[0m\u001b[0;34m\u001b[0m\u001b[0;34m\u001b[0m\u001b[0m\n\u001b[0m\u001b[1;32m    755\u001b[0m \u001b[0;34m\u001b[0m\u001b[0m\n\u001b[1;32m    756\u001b[0m     \u001b[0;32mdef\u001b[0m \u001b[0mfind_elements_by_class_name\u001b[0m\u001b[0;34m(\u001b[0m\u001b[0mself\u001b[0m\u001b[0;34m,\u001b[0m \u001b[0mname\u001b[0m\u001b[0;34m)\u001b[0m \u001b[0;34m->\u001b[0m \u001b[0mWebElement\u001b[0m\u001b[0;34m:\u001b[0m\u001b[0;34m\u001b[0m\u001b[0;34m\u001b[0m\u001b[0m\n",
      "\u001b[0;32m~/.local/lib/python3.8/site-packages/selenium/webdriver/remote/webdriver.py\u001b[0m in \u001b[0;36mfind_element\u001b[0;34m(self, by, value)\u001b[0m\n\u001b[1;32m   1236\u001b[0m             \u001b[0mvalue\u001b[0m \u001b[0;34m=\u001b[0m \u001b[0;34m'[name=\"%s\"]'\u001b[0m \u001b[0;34m%\u001b[0m \u001b[0mvalue\u001b[0m\u001b[0;34m\u001b[0m\u001b[0;34m\u001b[0m\u001b[0m\n\u001b[1;32m   1237\u001b[0m \u001b[0;34m\u001b[0m\u001b[0m\n\u001b[0;32m-> 1238\u001b[0;31m         return self.execute(Command.FIND_ELEMENT, {\n\u001b[0m\u001b[1;32m   1239\u001b[0m             \u001b[0;34m'using'\u001b[0m\u001b[0;34m:\u001b[0m \u001b[0mby\u001b[0m\u001b[0;34m,\u001b[0m\u001b[0;34m\u001b[0m\u001b[0;34m\u001b[0m\u001b[0m\n\u001b[1;32m   1240\u001b[0m             'value': value})['value']\n",
      "\u001b[0;32m~/.local/lib/python3.8/site-packages/selenium/webdriver/remote/webdriver.py\u001b[0m in \u001b[0;36mexecute\u001b[0;34m(self, driver_command, params)\u001b[0m\n\u001b[1;32m    416\u001b[0m         \u001b[0mresponse\u001b[0m \u001b[0;34m=\u001b[0m \u001b[0mself\u001b[0m\u001b[0;34m.\u001b[0m\u001b[0mcommand_executor\u001b[0m\u001b[0;34m.\u001b[0m\u001b[0mexecute\u001b[0m\u001b[0;34m(\u001b[0m\u001b[0mdriver_command\u001b[0m\u001b[0;34m,\u001b[0m \u001b[0mparams\u001b[0m\u001b[0;34m)\u001b[0m\u001b[0;34m\u001b[0m\u001b[0;34m\u001b[0m\u001b[0m\n\u001b[1;32m    417\u001b[0m         \u001b[0;32mif\u001b[0m \u001b[0mresponse\u001b[0m\u001b[0;34m:\u001b[0m\u001b[0;34m\u001b[0m\u001b[0;34m\u001b[0m\u001b[0m\n\u001b[0;32m--> 418\u001b[0;31m             \u001b[0mself\u001b[0m\u001b[0;34m.\u001b[0m\u001b[0merror_handler\u001b[0m\u001b[0;34m.\u001b[0m\u001b[0mcheck_response\u001b[0m\u001b[0;34m(\u001b[0m\u001b[0mresponse\u001b[0m\u001b[0;34m)\u001b[0m\u001b[0;34m\u001b[0m\u001b[0;34m\u001b[0m\u001b[0m\n\u001b[0m\u001b[1;32m    419\u001b[0m             response['value'] = self._unwrap_value(\n\u001b[1;32m    420\u001b[0m                 response.get('value', None))\n",
      "\u001b[0;32m~/.local/lib/python3.8/site-packages/selenium/webdriver/remote/errorhandler.py\u001b[0m in \u001b[0;36mcheck_response\u001b[0;34m(self, response)\u001b[0m\n\u001b[1;32m    241\u001b[0m                 \u001b[0malert_text\u001b[0m \u001b[0;34m=\u001b[0m \u001b[0mvalue\u001b[0m\u001b[0;34m[\u001b[0m\u001b[0;34m'alert'\u001b[0m\u001b[0;34m]\u001b[0m\u001b[0;34m.\u001b[0m\u001b[0mget\u001b[0m\u001b[0;34m(\u001b[0m\u001b[0;34m'text'\u001b[0m\u001b[0;34m)\u001b[0m\u001b[0;34m\u001b[0m\u001b[0;34m\u001b[0m\u001b[0m\n\u001b[1;32m    242\u001b[0m             \u001b[0;32mraise\u001b[0m \u001b[0mexception_class\u001b[0m\u001b[0;34m(\u001b[0m\u001b[0mmessage\u001b[0m\u001b[0;34m,\u001b[0m \u001b[0mscreen\u001b[0m\u001b[0;34m,\u001b[0m \u001b[0mstacktrace\u001b[0m\u001b[0;34m,\u001b[0m \u001b[0malert_text\u001b[0m\u001b[0;34m)\u001b[0m  \u001b[0;31m# type: ignore[call-arg]  # mypy is not smart enough here\u001b[0m\u001b[0;34m\u001b[0m\u001b[0;34m\u001b[0m\u001b[0m\n\u001b[0;32m--> 243\u001b[0;31m         \u001b[0;32mraise\u001b[0m \u001b[0mexception_class\u001b[0m\u001b[0;34m(\u001b[0m\u001b[0mmessage\u001b[0m\u001b[0;34m,\u001b[0m \u001b[0mscreen\u001b[0m\u001b[0;34m,\u001b[0m \u001b[0mstacktrace\u001b[0m\u001b[0;34m)\u001b[0m\u001b[0;34m\u001b[0m\u001b[0;34m\u001b[0m\u001b[0m\n\u001b[0m\u001b[1;32m    244\u001b[0m \u001b[0;34m\u001b[0m\u001b[0m\n\u001b[1;32m    245\u001b[0m     \u001b[0;32mdef\u001b[0m \u001b[0m_value_or_default\u001b[0m\u001b[0;34m(\u001b[0m\u001b[0mself\u001b[0m\u001b[0;34m,\u001b[0m \u001b[0mobj\u001b[0m\u001b[0;34m:\u001b[0m \u001b[0mMapping\u001b[0m\u001b[0;34m[\u001b[0m\u001b[0m_KT\u001b[0m\u001b[0;34m,\u001b[0m \u001b[0m_VT\u001b[0m\u001b[0;34m]\u001b[0m\u001b[0;34m,\u001b[0m \u001b[0mkey\u001b[0m\u001b[0;34m:\u001b[0m \u001b[0m_KT\u001b[0m\u001b[0;34m,\u001b[0m \u001b[0mdefault\u001b[0m\u001b[0;34m:\u001b[0m \u001b[0m_VT\u001b[0m\u001b[0;34m)\u001b[0m \u001b[0;34m->\u001b[0m \u001b[0m_VT\u001b[0m\u001b[0;34m:\u001b[0m\u001b[0;34m\u001b[0m\u001b[0;34m\u001b[0m\u001b[0m\n",
      "\u001b[0;31mNoSuchElementException\u001b[0m: Message: no such element: Unable to locate element: {\"method\":\"css selector\",\"selector\":\"._hero-video_1fikz_124 _tall_1fikz_139\"}\n  (Session info: chrome=96.0.4664.45)\nStacktrace:\nBacktrace:\n\tOrdinal0 [0x006D6903+2517251]\n\tOrdinal0 [0x0066F8E1+2095329]\n\tOrdinal0 [0x00572848+1058888]\n\tOrdinal0 [0x0059D448+1233992]\n\tOrdinal0 [0x0059D63B+1234491]\n\tOrdinal0 [0x005C7812+1406994]\n\tOrdinal0 [0x005B650A+1336586]\n\tOrdinal0 [0x005C5BBF+1399743]\n\tOrdinal0 [0x005B639B+1336219]\n\tOrdinal0 [0x005927A7+1189799]\n\tOrdinal0 [0x00593609+1193481]\n\tGetHandleVerifier [0x00865904+1577972]\n\tGetHandleVerifier [0x00910B97+2279047]\n\tGetHandleVerifier [0x00766D09+534521]\n\tGetHandleVerifier [0x00765DB9+530601]\n\tOrdinal0 [0x00674FF9+2117625]\n\tOrdinal0 [0x006798A8+2136232]\n\tOrdinal0 [0x006799E2+2136546]\n\tOrdinal0 [0x00683541+2176321]\n\tBaseThreadInitThunk [0x75ADFA29+25]\n\tRtlGetAppContainerNamedObjectPath [0x77777A9E+286]\n\tRtlGetAppContainerNamedObjectPath [0x77777A6E+238]\n"
     ]
    }
   ],
   "source": [
    "link= []\n",
    "\n",
    "driver = \"./chromedriver.exe\"\n",
    "driver = webdriver.Chrome(driver, options = opciones)\n",
    "\n",
    "for i in urls:\n",
    "    \n",
    "    time.sleep(5)\n",
    "    driver.implicitly_wait(5)\n",
    "    driver.get(i)\n",
    "    driver.implicitly_wait(5)\n",
    "    link.append(driver.find_element_by_class_name(\"_hero-video_1fikz_124 _tall_1fikz_139\").text)\n",
    "    driver.implicitly_wait(5)                         \n",
    "    driver.quit()\n",
    "\n",
    "    #/html/body/div[1]/main/div[1]/div/iframe\n",
    "    \n",
    "    #/html/body/div[1]/main/div[1]/div/iframe\n",
    "#ytPlayer-FRiiZRhapeU\n",
    "\n",
    "#ytPlayer-7EmwtpAI8cM"
   ]
  },
  {
   "cell_type": "code",
   "execution_count": null,
   "id": "70882774",
   "metadata": {},
   "outputs": [],
   "source": [
    "link"
   ]
  },
  {
   "cell_type": "code",
   "execution_count": 93,
   "id": "fe78b76a",
   "metadata": {},
   "outputs": [
    {
     "data": {
      "text/plain": [
       "['https://www.crossfit.com/essentials/the-legless-rope-climb?topicId=article.20210831113644192',\n",
       " 'https://www.crossfit.com/essentials/the-dumbbell-front-rack-lunge?topicId=article.20210820101544667',\n",
       " 'https://www.crossfit.com/essentials/the-dumbbell-hang-power-clean?topicId=article.20210809075643175',\n",
       " 'https://www.crossfit.com/essentials/the-ring-push-up?topicId=article.20210804154808722',\n",
       " 'https://www.crossfit.com/essentials/the-kipping-handstand-push-up?topicId=article.20210302153512191',\n",
       " 'https://www.crossfit.com/essentials/the-squat-clean-and-push-jerk?topicId=article.20210224145738635',\n",
       " 'https://www.crossfit.com/essentials/the-rope-climb-basket?topicId=article.20210209132636974',\n",
       " 'https://www.crossfit.com/essentials/the-turkish-get-up-with-jeff-martone?topicId=article.20201222121903110',\n",
       " 'https://www.crossfit.com/essentials/the-glide-kip?topicId=article.20201209095942483',\n",
       " 'https://www.crossfit.com/essentials/hang-clean-demo-with-the-burgeners?topicId=article.20201203142140876',\n",
       " 'https://www.crossfit.com/essentials/forward-roll-from-support?topicId=article.20201202085116719',\n",
       " 'https://www.crossfit.com/essentials/skin-the-cat?topicId=article.20201119115016526',\n",
       " 'https://www.crossfit.com/essentials/the-windshield-wiper?topicId=article.20201013133223461',\n",
       " 'https://www.crossfit.com/essentials/the-rope-climb-wrapping?topicId=article.20201007104445302',\n",
       " 'https://www.crossfit.com/essentials/the-butterfly-pull-up?topicId=article.20200922142511318',\n",
       " 'https://www.crossfit.com/essentials/the-power-clean-split-jerk?topicId=article.20200908143915797',\n",
       " 'https://www.crossfit.com/essentials/the-l-sit-on-rings?topicId=article.20200903105229012',\n",
       " 'https://www.crossfit.com/essentials/toes-to-bar-modifications?topicId=article.20200828133521766',\n",
       " 'https://www.crossfit.com/essentials/the-kipping-chest-to-bar-pull-up?topicId=article.20200821102418132',\n",
       " 'https://www.crossfit.com/essentials/pistol-variations?topicId=article.20200817095903542',\n",
       " 'https://www.crossfit.com/essentials/heel-tap-progression?topicId=article.20200814124303237',\n",
       " 'https://www.crossfit.com/essentials/the-zercher-squat?topicId=article.20200804073230612',\n",
       " 'https://www.crossfit.com/essentials/running-modifications?topicId=article.20200805151911910',\n",
       " 'https://www.crossfit.com/essentials/the-strict-toes-to-rings?topicId=article.20200729153745735',\n",
       " 'https://www.crossfit.com/essentials/the-strict-chest-to-bar-pull-up?topicId=article.20200708165016766',\n",
       " 'https://www.crossfit.com/essentials/the-hang-clean-and-push-jerk?topicId=article.20200708112746472',\n",
       " 'https://www.crossfit.com/essentials/modified-sit-up?topicId=article.20200706133353874',\n",
       " 'https://www.crossfit.com/essentials/the-muscle-snatch?topicId=article.20200310113830730',\n",
       " 'https://www.crossfit.com/essentials/the-hang-power-clean-and-push-jerk?topicId=article.20200618115542499',\n",
       " 'https://www.crossfit.com/essentials/the-kipping-toes-to-bar?topicId=article.20200529081242899',\n",
       " 'https://www.crossfit.com/essentials/rope-climb-modification?topicId=article.20200511103019009',\n",
       " 'https://www.crossfit.com/essentials/l-sit-drills?topicId=article.20200511102627177',\n",
       " 'https://www.crossfit.com/essentials/the-l-sit-to-shoulder-stand?topicId=article.20200420140657913',\n",
       " 'https://www.crossfit.com/essentials/the-straddle-press?topicId=article.20200331123114359',\n",
       " 'https://www.crossfit.com/essentials/the-dumbbell-power-snatch?topicId=article.20200402104938356',\n",
       " 'https://www.crossfit.com/essentials/the-chest-to-wall-handstand-push-up?topicId=article.20200324125403510',\n",
       " 'https://www.crossfit.com/essentials/burpee-modification?topicId=article.20200324121555394',\n",
       " 'https://www.crossfit.com/essentials/the-dumbbell-push-press?topicId=article.20200319115101774',\n",
       " 'https://www.crossfit.com/essentials/the-shoot-through?topicId=article.20200304125732226',\n",
       " 'https://www.crossfit.com/essentials/the-dumbbell-power-clean?topicId=article.20200221114457540',\n",
       " 'https://www.crossfit.com/essentials/the-freestanding-handstand-push-up?topicId=article.20200220120814451',\n",
       " 'https://www.crossfit.com/essentials/toes-to-bar-modification?topicId=article.20200220115404743',\n",
       " 'https://www.crossfit.com/essentials/backward-roll-to-support?topicId=article.20200206112054800',\n",
       " 'https://www.crossfit.com/essentials/the-sots-press?topicId=article.20200122160736953',\n",
       " 'https://www.crossfit.com/essentials/muscle-up-modification?topicId=article.20200103113753683',\n",
       " 'https://www.crossfit.com/essentials/the-kipping-deficit-handstand-push-up?topicId=article.20200122154239644',\n",
       " 'https://www.crossfit.com/essentials/the-dumbbell-clean?topicId=article.20200116151041390',\n",
       " 'https://www.crossfit.com/essentials/the-clean-and-jerk?topicId=article.20200114105624947',\n",
       " 'https://www.crossfit.com/essentials/the-burpee-box-jump-over?topicId=article.20200109130413257',\n",
       " 'https://www.crossfit.com/essentials/the-hanging-l-sit?topicId=article.20200113120319488',\n",
       " 'https://www.crossfit.com/essentials/the-strict-bar-muscle-up?topicId=article.20200103111059394',\n",
       " 'https://www.crossfit.com/essentials/pull-up-modification?topicId=article.20191231150652134',\n",
       " 'https://www.crossfit.com/essentials/handstand-push-up-variations?topicId=article.20191230121702384',\n",
       " 'https://www.crossfit.com/essentials/single-under-modification?topicId=article.20191220153916717',\n",
       " 'https://www.crossfit.com/essentials/the-strict-knees-to-elbow?topicId=article.20191218141248483',\n",
       " 'https://www.crossfit.com/essentials/modified-ring-dip?topicId=article.20191219130111522',\n",
       " 'https://www.crossfit.com/essentials/the-hang-snatch?topicId=article.20191212150840547',\n",
       " 'https://www.crossfit.com/essentials/the-split-clean?topicId=article.20191213103340337',\n",
       " 'https://www.crossfit.com/essentials/the-box-step-up?topicId=article.20191204132825867',\n",
       " 'https://www.crossfit.com/essentials/the-dumbbell-front-squat?topicId=article.20191202104833971',\n",
       " 'https://www.crossfit.com/essentials/the-strict-toes-to-bar?topicId=article.20191122114307755',\n",
       " 'https://www.crossfit.com/essentials/the-hang-squat-clean?topicId=article.20191121081346994',\n",
       " 'https://www.crossfit.com/essentials/the-dumbbell-push-jerk?topicId=article.20191118150609423',\n",
       " 'https://www.crossfit.com/essentials/the-dip?topicId=article.20191112124839055',\n",
       " 'https://www.crossfit.com/essentials/the-dumbbell-deadlift?topicId=article.20191104104620049',\n",
       " 'https://www.crossfit.com/essentials/the-split-snatch?topicId=article.20191028132429754',\n",
       " 'https://www.crossfit.com/essentials/the-pull-over?topicId=article.20191018155829077',\n",
       " 'https://www.crossfit.com/essentials/the-sumo-deadlift?topicId=article.20191016150004403',\n",
       " 'https://www.crossfit.com/essentials/ring-row-progression?topicId=article.20191008120930186',\n",
       " 'https://www.crossfit.com/essentials/step-up-progression?topicId=article.20191008104257459',\n",
       " 'https://www.crossfit.com/essentials/the-kettlebell-swing?topicId=article.20190930115219766',\n",
       " 'https://www.crossfit.com/191002?topicId=article.20190925165421481',\n",
       " 'https://www.crossfit.com/essentials/squat-progression?topicId=article.20190925163936689',\n",
       " 'https://www.crossfit.com/essentials/the-split-jerk?topicId=article.20190925161902483',\n",
       " 'https://www.crossfit.com/essentials/the-kettlebell-snatch?topicId=article.20190925141600283',\n",
       " 'https://www.crossfit.com/essentials/the-glute-ham-developer-sit-up?topicId=article.20190916103520992',\n",
       " 'https://www.crossfit.com/essentials/the-wall-walk?topicId=article.20190905144655915',\n",
       " 'https://www.crossfit.com/essentials/the-hang-power-snatch?topicId=article.20190830164253515',\n",
       " 'https://www.crossfit.com/essentials/the-dumbbell-thruster?topicId=article.20190828163822922',\n",
       " 'https://www.crossfit.com/essentials/the-kipping-muscle-up?topicId=article.20190828155204345',\n",
       " 'https://www.crossfit.com/190908?topicId=article.20190828155631245',\n",
       " 'https://www.crossfit.com/essentials/the-dumbbell-hang-clean?topicId=article.20190826140546590',\n",
       " 'https://www.crossfit.com/essentials/the-hang-power-clean?topicId=article.20190819213831569',\n",
       " 'https://www.crossfit.com/essentials/the-box-jump?topicId=article.20190819210629225',\n",
       " 'https://www.crossfit.com/essentials/presses-to-handstands?topicId=article.20190819115807023',\n",
       " 'https://www.crossfit.com/essentials/the-modified-rope-climb?topicId=article.20190814103738538',\n",
       " 'https://www.crossfit.com/essentials/the-abmat-sit-up?topicId=article.20190814103520310',\n",
       " 'https://www.crossfit.com/190815?topicId=article.20190814104837750',\n",
       " 'https://www.crossfit.com/essentials/the-burpee-2?topicId=article.20190808115225728',\n",
       " 'https://www.crossfit.com/essentials/the-power-snatch?topicId=article.20190724163257448',\n",
       " 'https://www.crossfit.com/essentials/the-clean-2?topicId=article.20190506154535168',\n",
       " 'https://www.crossfit.com/essentials/the-snatch?topicId=article.20190724150240641',\n",
       " 'https://www.crossfit.com/essentials/the-dumbbell-overhead-squat?topicId=article.20190724123048213',\n",
       " 'https://www.crossfit.com/essentials/the-ghd-sit-up?topicId=article.20190724102459322',\n",
       " 'https://www.crossfit.com/essentials/the-wall-ball?topicId=article.20190721155518618',\n",
       " 'https://www.crossfit.com/essentials/pirouettes?topicId=article.20190715142435611',\n",
       " 'https://www.crossfit.com/essentials/the-inverted-burpee?topicId=article.20190712144813049',\n",
       " 'https://www.crossfit.com/essentials/candlestick-drills?topicId=article.20190619120245621',\n",
       " 'https://www.crossfit.com/essentials/the-ring-row?topicId=article.20190619082700304',\n",
       " 'https://www.crossfit.com/essentials/walking-warm-up?topicId=article.20190613145430140',\n",
       " 'https://www.crossfit.com/essentials/descent-from-handstand-variations?topicId=article.20190604121012645',\n",
       " 'https://www.crossfit.com/essentials/the-slam-ball?topicId=article.20190531112609941',\n",
       " 'https://www.crossfit.com/essentials/the-kipping-pull-up?topicId=article.20190506165549437',\n",
       " 'https://www.crossfit.com/essentials/the-clean-jerk?topicId=article.20190510124858546',\n",
       " 'https://www.crossfit.com/190521?topicId=article.20190506155207372',\n",
       " 'https://www.crossfit.com/essentials/the-single-leg-squat?topicId=article.20190506141531747',\n",
       " 'https://www.crossfit.com/essentials/the-dumbbell-snatch?topicId=article.20190506122008921',\n",
       " 'https://www.crossfit.com/essentials/the-handstand-walk?topicId=article.20190506115918182',\n",
       " 'https://www.crossfit.com/essentials/the-farmer-carry?topicId=article.20190502105559460',\n",
       " 'https://www.crossfit.com/essentials/the-bench-press?topicId=article.20190501150142022',\n",
       " 'https://www.crossfit.com/essentials/the-good-morning?topicId=article.20190430154017437',\n",
       " 'https://www.crossfit.com/essentials/the-strict-muscle-up?topicId=article.20190404124013947',\n",
       " 'https://www.crossfit.com/essentials/the-ring-dip?topicId=article.20190404122203952',\n",
       " 'https://www.crossfit.com/essentials/the-back-squat?topicId=article.20190404110737340',\n",
       " 'https://www.crossfit.com/essentials/plank-variations?topicId=article.20190412152901537',\n",
       " 'https://www.crossfit.com/essentials/the-dumbbell-turkish-get-up?topicId=article.20190402133302203',\n",
       " 'https://www.crossfit.com/essentials/the-thruster?topicId=article.20190402132154531',\n",
       " 'https://www.crossfit.com/essentials/the-l-sit-rope-climb?topicId=article.20190401123450764',\n",
       " 'https://www.crossfit.com/essentials/the-l-pull-up?topicId=article.20190328115446045',\n",
       " 'https://www.crossfit.com/essentials/the-walking-lunge?topicId=article.20190321134614685',\n",
       " 'https://www.crossfit.com/essentials/rowing?topicId=article.20190318133027477',\n",
       " 'https://www.crossfit.com/essentials/the-power-clean?topicId=article.20190315151715619',\n",
       " 'https://www.crossfit.com/essentials/freestanding-handstand?topicId=article.20190306124928220',\n",
       " 'https://www.crossfit.com/essentials/the-strict-handstand-push-up?topicId=article.20190304143529516',\n",
       " 'https://www.crossfit.com/essentials/front-scales-progression?topicId=article.20190305100812557',\n",
       " 'https://www.crossfit.com/essentials/back-scales-progression?topicId=article.20190301151526094',\n",
       " 'https://www.crossfit.com/essentials/the-double-under?topicId=article.20190226152230132',\n",
       " 'https://www.crossfit.com/essentials/the-push-press?topicId=article.20190225134011947',\n",
       " 'https://www.crossfit.com/essentials/the-push-jerk?topicId=article.20190225134408783',\n",
       " 'https://www.crossfit.com/essentials/the-overhead-squat?topicId=article.20190222121719271',\n",
       " 'https://www.crossfit.com/essentials/the-medicine-ball-clean?topicId=article.20190201135119644',\n",
       " 'https://www.crossfit.com/essentials/the-push-up?topicId=article.20190208115424422',\n",
       " 'https://www.crossfit.com/essentials/the-l-sit?topicId=article.20190201115137710',\n",
       " 'https://www.crossfit.com/essentials/the-strict-pull-up?topicId=article.20190124130331694',\n",
       " 'https://www.crossfit.com/essentials/the-sumo-deadlift-high-pull?topicId=article.20190124113447134',\n",
       " 'https://www.crossfit.com/essentials/the-front-squat?topicId=article.20190122141323634',\n",
       " 'https://www.crossfit.com/essentials/the-ghd-hip-extension?topicId=article.20190118102456751',\n",
       " 'https://www.crossfit.com/essentials/the-ghd-hip-and-back-extension?topicId=article.20190118103329749',\n",
       " 'https://www.crossfit.com/at-home/hip-back-and-hip-back-extensions?topicId=article.201901161052',\n",
       " 'https://www.crossfit.com/essentials/the-ghd-back-extension?topicId=article.20190118103044814',\n",
       " 'https://www.crossfit.com/essentials/the-shoulder-press?topicId=article.201901161002',\n",
       " 'https://www.crossfit.com/essentials/the-air-squat?topicId=article.201901090958']"
      ]
     },
     "execution_count": 93,
     "metadata": {},
     "output_type": "execute_result"
    }
   ],
   "source": [
    "urls"
   ]
  },
  {
   "cell_type": "code",
   "execution_count": 80,
   "id": "46b7d9d8",
   "metadata": {},
   "outputs": [
    {
     "data": {
      "text/plain": [
       "142"
      ]
     },
     "execution_count": 80,
     "metadata": {},
     "output_type": "execute_result"
    }
   ],
   "source": [
    "len(movimientos)"
   ]
  },
  {
   "cell_type": "code",
   "execution_count": 91,
   "id": "9b42d532",
   "metadata": {},
   "outputs": [
    {
     "data": {
      "text/plain": [
       "dict_values(['https://www.crossfit.com/essentials/the-air-squat?topicId=article.201901090958'])"
      ]
     },
     "execution_count": 91,
     "metadata": {},
     "output_type": "execute_result"
    }
   ],
   "source": [
    "movimientos[i].values()"
   ]
  },
  {
   "cell_type": "code",
   "execution_count": 87,
   "id": "5b0d020a",
   "metadata": {},
   "outputs": [],
   "source": [
    "urls = []\n",
    "for i in range(len(movimientos)):\n",
    "    urls.append(movimientos[i].values())"
   ]
  },
  {
   "cell_type": "code",
   "execution_count": 88,
   "id": "1c7723d7",
   "metadata": {},
   "outputs": [
    {
     "data": {
      "text/plain": [
       "[dict_values(['https://www.crossfit.com/essentials/the-legless-rope-climb?topicId=article.20210831113644192']),\n",
       " dict_values(['https://www.crossfit.com/essentials/the-dumbbell-front-rack-lunge?topicId=article.20210820101544667']),\n",
       " dict_values(['https://www.crossfit.com/essentials/the-dumbbell-hang-power-clean?topicId=article.20210809075643175']),\n",
       " dict_values(['https://www.crossfit.com/essentials/the-ring-push-up?topicId=article.20210804154808722']),\n",
       " dict_values(['https://www.crossfit.com/essentials/the-kipping-handstand-push-up?topicId=article.20210302153512191']),\n",
       " dict_values(['https://www.crossfit.com/essentials/the-squat-clean-and-push-jerk?topicId=article.20210224145738635']),\n",
       " dict_values(['https://www.crossfit.com/essentials/the-rope-climb-basket?topicId=article.20210209132636974']),\n",
       " dict_values(['https://www.crossfit.com/essentials/the-turkish-get-up-with-jeff-martone?topicId=article.20201222121903110']),\n",
       " dict_values(['https://www.crossfit.com/essentials/the-glide-kip?topicId=article.20201209095942483']),\n",
       " dict_values(['https://www.crossfit.com/essentials/hang-clean-demo-with-the-burgeners?topicId=article.20201203142140876']),\n",
       " dict_values(['https://www.crossfit.com/essentials/forward-roll-from-support?topicId=article.20201202085116719']),\n",
       " dict_values(['https://www.crossfit.com/essentials/skin-the-cat?topicId=article.20201119115016526']),\n",
       " dict_values(['https://www.crossfit.com/essentials/the-windshield-wiper?topicId=article.20201013133223461']),\n",
       " dict_values(['https://www.crossfit.com/essentials/the-rope-climb-wrapping?topicId=article.20201007104445302']),\n",
       " dict_values(['https://www.crossfit.com/essentials/the-butterfly-pull-up?topicId=article.20200922142511318']),\n",
       " dict_values(['https://www.crossfit.com/essentials/the-power-clean-split-jerk?topicId=article.20200908143915797']),\n",
       " dict_values(['https://www.crossfit.com/essentials/the-l-sit-on-rings?topicId=article.20200903105229012']),\n",
       " dict_values(['https://www.crossfit.com/essentials/toes-to-bar-modifications?topicId=article.20200828133521766']),\n",
       " dict_values(['https://www.crossfit.com/essentials/the-kipping-chest-to-bar-pull-up?topicId=article.20200821102418132']),\n",
       " dict_values(['https://www.crossfit.com/essentials/pistol-variations?topicId=article.20200817095903542']),\n",
       " dict_values(['https://www.crossfit.com/essentials/heel-tap-progression?topicId=article.20200814124303237']),\n",
       " dict_values(['https://www.crossfit.com/essentials/the-zercher-squat?topicId=article.20200804073230612']),\n",
       " dict_values(['https://www.crossfit.com/essentials/running-modifications?topicId=article.20200805151911910']),\n",
       " dict_values(['https://www.crossfit.com/essentials/the-strict-toes-to-rings?topicId=article.20200729153745735']),\n",
       " dict_values(['https://www.crossfit.com/essentials/the-strict-chest-to-bar-pull-up?topicId=article.20200708165016766']),\n",
       " dict_values(['https://www.crossfit.com/essentials/the-hang-clean-and-push-jerk?topicId=article.20200708112746472']),\n",
       " dict_values(['https://www.crossfit.com/essentials/modified-sit-up?topicId=article.20200706133353874']),\n",
       " dict_values(['https://www.crossfit.com/essentials/the-muscle-snatch?topicId=article.20200310113830730']),\n",
       " dict_values(['https://www.crossfit.com/essentials/the-hang-power-clean-and-push-jerk?topicId=article.20200618115542499']),\n",
       " dict_values(['https://www.crossfit.com/essentials/the-kipping-toes-to-bar?topicId=article.20200529081242899']),\n",
       " dict_values(['https://www.crossfit.com/essentials/rope-climb-modification?topicId=article.20200511103019009']),\n",
       " dict_values(['https://www.crossfit.com/essentials/l-sit-drills?topicId=article.20200511102627177']),\n",
       " dict_values(['https://www.crossfit.com/essentials/the-l-sit-to-shoulder-stand?topicId=article.20200420140657913']),\n",
       " dict_values(['https://www.crossfit.com/essentials/the-straddle-press?topicId=article.20200331123114359']),\n",
       " dict_values(['https://www.crossfit.com/essentials/the-dumbbell-power-snatch?topicId=article.20200402104938356']),\n",
       " dict_values(['https://www.crossfit.com/essentials/the-chest-to-wall-handstand-push-up?topicId=article.20200324125403510']),\n",
       " dict_values(['https://www.crossfit.com/essentials/burpee-modification?topicId=article.20200324121555394']),\n",
       " dict_values(['https://www.crossfit.com/essentials/the-dumbbell-push-press?topicId=article.20200319115101774']),\n",
       " dict_values(['https://www.crossfit.com/essentials/the-shoot-through?topicId=article.20200304125732226']),\n",
       " dict_values(['https://www.crossfit.com/essentials/the-dumbbell-power-clean?topicId=article.20200221114457540']),\n",
       " dict_values(['https://www.crossfit.com/essentials/the-freestanding-handstand-push-up?topicId=article.20200220120814451']),\n",
       " dict_values(['https://www.crossfit.com/essentials/toes-to-bar-modification?topicId=article.20200220115404743']),\n",
       " dict_values(['https://www.crossfit.com/essentials/backward-roll-to-support?topicId=article.20200206112054800']),\n",
       " dict_values(['https://www.crossfit.com/essentials/the-sots-press?topicId=article.20200122160736953']),\n",
       " dict_values(['https://www.crossfit.com/essentials/muscle-up-modification?topicId=article.20200103113753683']),\n",
       " dict_values(['https://www.crossfit.com/essentials/the-kipping-deficit-handstand-push-up?topicId=article.20200122154239644']),\n",
       " dict_values(['https://www.crossfit.com/essentials/the-dumbbell-clean?topicId=article.20200116151041390']),\n",
       " dict_values(['https://www.crossfit.com/essentials/the-clean-and-jerk?topicId=article.20200114105624947']),\n",
       " dict_values(['https://www.crossfit.com/essentials/the-burpee-box-jump-over?topicId=article.20200109130413257']),\n",
       " dict_values(['https://www.crossfit.com/essentials/the-hanging-l-sit?topicId=article.20200113120319488']),\n",
       " dict_values(['https://www.crossfit.com/essentials/the-strict-bar-muscle-up?topicId=article.20200103111059394']),\n",
       " dict_values(['https://www.crossfit.com/essentials/pull-up-modification?topicId=article.20191231150652134']),\n",
       " dict_values(['https://www.crossfit.com/essentials/handstand-push-up-variations?topicId=article.20191230121702384']),\n",
       " dict_values(['https://www.crossfit.com/essentials/single-under-modification?topicId=article.20191220153916717']),\n",
       " dict_values(['https://www.crossfit.com/essentials/the-strict-knees-to-elbow?topicId=article.20191218141248483']),\n",
       " dict_values(['https://www.crossfit.com/essentials/modified-ring-dip?topicId=article.20191219130111522']),\n",
       " dict_values(['https://www.crossfit.com/essentials/the-hang-snatch?topicId=article.20191212150840547']),\n",
       " dict_values(['https://www.crossfit.com/essentials/the-split-clean?topicId=article.20191213103340337']),\n",
       " dict_values(['https://www.crossfit.com/essentials/the-box-step-up?topicId=article.20191204132825867']),\n",
       " dict_values(['https://www.crossfit.com/essentials/the-dumbbell-front-squat?topicId=article.20191202104833971']),\n",
       " dict_values(['https://www.crossfit.com/essentials/the-strict-toes-to-bar?topicId=article.20191122114307755']),\n",
       " dict_values(['https://www.crossfit.com/essentials/the-hang-squat-clean?topicId=article.20191121081346994']),\n",
       " dict_values(['https://www.crossfit.com/essentials/the-dumbbell-push-jerk?topicId=article.20191118150609423']),\n",
       " dict_values(['https://www.crossfit.com/essentials/the-dip?topicId=article.20191112124839055']),\n",
       " dict_values(['https://www.crossfit.com/essentials/the-dumbbell-deadlift?topicId=article.20191104104620049']),\n",
       " dict_values(['https://www.crossfit.com/essentials/the-split-snatch?topicId=article.20191028132429754']),\n",
       " dict_values(['https://www.crossfit.com/essentials/the-pull-over?topicId=article.20191018155829077']),\n",
       " dict_values(['https://www.crossfit.com/essentials/the-sumo-deadlift?topicId=article.20191016150004403']),\n",
       " dict_values(['https://www.crossfit.com/essentials/ring-row-progression?topicId=article.20191008120930186']),\n",
       " dict_values(['https://www.crossfit.com/essentials/step-up-progression?topicId=article.20191008104257459']),\n",
       " dict_values(['https://www.crossfit.com/essentials/the-kettlebell-swing?topicId=article.20190930115219766']),\n",
       " dict_values(['https://www.crossfit.com/191002?topicId=article.20190925165421481']),\n",
       " dict_values(['https://www.crossfit.com/essentials/squat-progression?topicId=article.20190925163936689']),\n",
       " dict_values(['https://www.crossfit.com/essentials/the-split-jerk?topicId=article.20190925161902483']),\n",
       " dict_values(['https://www.crossfit.com/essentials/the-kettlebell-snatch?topicId=article.20190925141600283']),\n",
       " dict_values(['https://www.crossfit.com/essentials/the-glute-ham-developer-sit-up?topicId=article.20190916103520992']),\n",
       " dict_values(['https://www.crossfit.com/essentials/the-wall-walk?topicId=article.20190905144655915']),\n",
       " dict_values(['https://www.crossfit.com/essentials/the-hang-power-snatch?topicId=article.20190830164253515']),\n",
       " dict_values(['https://www.crossfit.com/essentials/the-dumbbell-thruster?topicId=article.20190828163822922']),\n",
       " dict_values(['https://www.crossfit.com/essentials/the-kipping-muscle-up?topicId=article.20190828155204345']),\n",
       " dict_values(['https://www.crossfit.com/190908?topicId=article.20190828155631245']),\n",
       " dict_values(['https://www.crossfit.com/essentials/the-dumbbell-hang-clean?topicId=article.20190826140546590']),\n",
       " dict_values(['https://www.crossfit.com/essentials/the-hang-power-clean?topicId=article.20190819213831569']),\n",
       " dict_values(['https://www.crossfit.com/essentials/the-box-jump?topicId=article.20190819210629225']),\n",
       " dict_values(['https://www.crossfit.com/essentials/presses-to-handstands?topicId=article.20190819115807023']),\n",
       " dict_values(['https://www.crossfit.com/essentials/the-modified-rope-climb?topicId=article.20190814103738538']),\n",
       " dict_values(['https://www.crossfit.com/essentials/the-abmat-sit-up?topicId=article.20190814103520310']),\n",
       " dict_values(['https://www.crossfit.com/190815?topicId=article.20190814104837750']),\n",
       " dict_values(['https://www.crossfit.com/essentials/the-burpee-2?topicId=article.20190808115225728']),\n",
       " dict_values(['https://www.crossfit.com/essentials/the-power-snatch?topicId=article.20190724163257448']),\n",
       " dict_values(['https://www.crossfit.com/essentials/the-clean-2?topicId=article.20190506154535168']),\n",
       " dict_values(['https://www.crossfit.com/essentials/the-snatch?topicId=article.20190724150240641']),\n",
       " dict_values(['https://www.crossfit.com/essentials/the-dumbbell-overhead-squat?topicId=article.20190724123048213']),\n",
       " dict_values(['https://www.crossfit.com/essentials/the-ghd-sit-up?topicId=article.20190724102459322']),\n",
       " dict_values(['https://www.crossfit.com/essentials/the-wall-ball?topicId=article.20190721155518618']),\n",
       " dict_values(['https://www.crossfit.com/essentials/pirouettes?topicId=article.20190715142435611']),\n",
       " dict_values(['https://www.crossfit.com/essentials/the-inverted-burpee?topicId=article.20190712144813049']),\n",
       " dict_values(['https://www.crossfit.com/essentials/candlestick-drills?topicId=article.20190619120245621']),\n",
       " dict_values(['https://www.crossfit.com/essentials/the-ring-row?topicId=article.20190619082700304']),\n",
       " dict_values(['https://www.crossfit.com/essentials/walking-warm-up?topicId=article.20190613145430140']),\n",
       " dict_values(['https://www.crossfit.com/essentials/descent-from-handstand-variations?topicId=article.20190604121012645']),\n",
       " dict_values(['https://www.crossfit.com/essentials/the-slam-ball?topicId=article.20190531112609941']),\n",
       " dict_values(['https://www.crossfit.com/essentials/the-kipping-pull-up?topicId=article.20190506165549437']),\n",
       " dict_values(['https://www.crossfit.com/essentials/the-clean-jerk?topicId=article.20190510124858546']),\n",
       " dict_values(['https://www.crossfit.com/190521?topicId=article.20190506155207372']),\n",
       " dict_values(['https://www.crossfit.com/essentials/the-single-leg-squat?topicId=article.20190506141531747']),\n",
       " dict_values(['https://www.crossfit.com/essentials/the-dumbbell-snatch?topicId=article.20190506122008921']),\n",
       " dict_values(['https://www.crossfit.com/essentials/the-handstand-walk?topicId=article.20190506115918182']),\n",
       " dict_values(['https://www.crossfit.com/essentials/the-farmer-carry?topicId=article.20190502105559460']),\n",
       " dict_values(['https://www.crossfit.com/essentials/the-bench-press?topicId=article.20190501150142022']),\n",
       " dict_values(['https://www.crossfit.com/essentials/the-good-morning?topicId=article.20190430154017437']),\n",
       " dict_values(['https://www.crossfit.com/essentials/the-strict-muscle-up?topicId=article.20190404124013947']),\n",
       " dict_values(['https://www.crossfit.com/essentials/the-ring-dip?topicId=article.20190404122203952']),\n",
       " dict_values(['https://www.crossfit.com/essentials/the-back-squat?topicId=article.20190404110737340']),\n",
       " dict_values(['https://www.crossfit.com/essentials/plank-variations?topicId=article.20190412152901537']),\n",
       " dict_values(['https://www.crossfit.com/essentials/the-dumbbell-turkish-get-up?topicId=article.20190402133302203']),\n",
       " dict_values(['https://www.crossfit.com/essentials/the-thruster?topicId=article.20190402132154531']),\n",
       " dict_values(['https://www.crossfit.com/essentials/the-l-sit-rope-climb?topicId=article.20190401123450764']),\n",
       " dict_values(['https://www.crossfit.com/essentials/the-l-pull-up?topicId=article.20190328115446045']),\n",
       " dict_values(['https://www.crossfit.com/essentials/the-walking-lunge?topicId=article.20190321134614685']),\n",
       " dict_values(['https://www.crossfit.com/essentials/rowing?topicId=article.20190318133027477']),\n",
       " dict_values(['https://www.crossfit.com/essentials/the-power-clean?topicId=article.20190315151715619']),\n",
       " dict_values(['https://www.crossfit.com/essentials/freestanding-handstand?topicId=article.20190306124928220']),\n",
       " dict_values(['https://www.crossfit.com/essentials/the-strict-handstand-push-up?topicId=article.20190304143529516']),\n",
       " dict_values(['https://www.crossfit.com/essentials/front-scales-progression?topicId=article.20190305100812557']),\n",
       " dict_values(['https://www.crossfit.com/essentials/back-scales-progression?topicId=article.20190301151526094']),\n",
       " dict_values(['https://www.crossfit.com/essentials/the-double-under?topicId=article.20190226152230132']),\n",
       " dict_values(['https://www.crossfit.com/essentials/the-push-press?topicId=article.20190225134011947']),\n",
       " dict_values(['https://www.crossfit.com/essentials/the-push-jerk?topicId=article.20190225134408783']),\n",
       " dict_values(['https://www.crossfit.com/essentials/the-overhead-squat?topicId=article.20190222121719271']),\n",
       " dict_values(['https://www.crossfit.com/essentials/the-medicine-ball-clean?topicId=article.20190201135119644']),\n",
       " dict_values(['https://www.crossfit.com/essentials/the-push-up?topicId=article.20190208115424422']),\n",
       " dict_values(['https://www.crossfit.com/essentials/the-l-sit?topicId=article.20190201115137710']),\n",
       " dict_values(['https://www.crossfit.com/essentials/the-strict-pull-up?topicId=article.20190124130331694']),\n",
       " dict_values(['https://www.crossfit.com/essentials/the-sumo-deadlift-high-pull?topicId=article.20190124113447134']),\n",
       " dict_values(['https://www.crossfit.com/essentials/the-front-squat?topicId=article.20190122141323634']),\n",
       " dict_values(['https://www.crossfit.com/essentials/the-ghd-hip-extension?topicId=article.20190118102456751']),\n",
       " dict_values(['https://www.crossfit.com/essentials/the-ghd-hip-and-back-extension?topicId=article.20190118103329749']),\n",
       " dict_values(['https://www.crossfit.com/at-home/hip-back-and-hip-back-extensions?topicId=article.201901161052']),\n",
       " dict_values(['https://www.crossfit.com/essentials/the-ghd-back-extension?topicId=article.20190118103044814']),\n",
       " dict_values(['https://www.crossfit.com/essentials/the-shoulder-press?topicId=article.201901161002']),\n",
       " dict_values(['https://www.crossfit.com/essentials/the-air-squat?topicId=article.201901090958'])]"
      ]
     },
     "execution_count": 88,
     "metadata": {},
     "output_type": "execute_result"
    }
   ],
   "source": [
    "urls"
   ]
  },
  {
   "cell_type": "code",
   "execution_count": null,
   "id": "24de23c3",
   "metadata": {},
   "outputs": [],
   "source": [
    "lista_nueva = []\n",
    "for elemento in movimientos:\n",
    "    for key,value in elemento.items(): \n",
    "        url = elemento[key] #para acceder al value, llamo a la key de cada diccionario de mi lista de diccionario(movimientos)\n",
    "        html=requests.get(url) #coger la url de cada uno de los values que he llamado a través de su key\n",
    "        soup=BeautifulSoup(html.content, \"html.parser\")\n",
    "        enlaces = soup.select(\"iframe\")[0]\n",
    "        elemento[key] = enlaces #creo un nuevo par de diccionario, con la key de cada diccionario de movimientos\n",
    "        lista_nueva.append(elemento)"
   ]
  },
  {
   "cell_type": "code",
   "execution_count": 70,
   "id": "e2ef2c05",
   "metadata": {},
   "outputs": [
    {
     "name": "stderr",
     "output_type": "stream",
     "text": [
      "<ipython-input-70-95f736b8b672>:2: DeprecationWarning: executable_path has been deprecated, please pass in a Service object\n",
      "  driver = webdriver.Chrome(driver, options = opciones)\n",
      "<ipython-input-70-95f736b8b672>:7: DeprecationWarning: find_element_by_* commands are deprecated. Please use find_element() instead\n",
      "  driver.find_element_by_css_selector(\"#modal > div > div > button\").click()\n",
      "<ipython-input-70-95f736b8b672>:15: DeprecationWarning: find_element_by_* commands are deprecated. Please use find_element() instead\n",
      "  driver.find_element_by_css_selector(\"#main > div:nth-child(4) > section > div > button\").click()\n",
      "<ipython-input-70-95f736b8b672>:22: DeprecationWarning: find_element_by_* commands are deprecated. Please use find_element() instead\n",
      "  movimientos.append(driver.find_element_by_css_selector(f\"#main > div:nth-child(4) > section > article:nth-child({i}) > div > div > a:nth-child(1) > h2\").text)\n",
      "<ipython-input-70-95f736b8b672>:23: DeprecationWarning: find_element_by_* commands are deprecated. Please use find_element() instead\n",
      "  videos.append(driver.find_element_by_css_selector(f\"head > link:nth-child({i})\").text)\n"
     ]
    }
   ],
   "source": [
    "driver = \"./chromedriver.exe\"\n",
    "driver = webdriver.Chrome(driver, options = opciones)\n",
    "url = \"https://www.crossfit.com/essentials/movements/\"\n",
    "driver.get(url)\n",
    "\n",
    "driver.implicitly_wait(2)\n",
    "driver.find_element_by_css_selector(\"#modal > div > div > button\").click()\n",
    "\n",
    "movimientos = []\n",
    "videos = []\n",
    "\n",
    "\n",
    "for i in range (1,143):\n",
    "    try:\n",
    "\n",
    "        driver.execute_script(\"window.scrollTo(0, window.scrollY + 300)\")\n",
    "        driver.find_element_by_css_selector(\"#main > div:nth-child(4) > section > div > button\").click()\n",
    "        driver.execute_script(\"window.scrollTo(0, window.scrollY + 300)\")\n",
    "    except:\n",
    "        break\n",
    "\n",
    "for i in range (1,143):\n",
    "    try:   \n",
    "        \n",
    "        movimientos.append(driver.find_element_by_css_selector(f\"#main > div:nth-child(4) > section > article:nth-child({i}) > div > div > a:nth-child(1) > h2\").text)\n",
    "        videos.append(driver.find_element_by_css_selector(f\"head > link:nth-child({i})\").text)\n",
    "    except:\n",
    "        break\n",
    "        \n",
    "#head > link:nth-child(11)\n",
    "    \n",
    "    \n",
    "    \n",
    "    #ytPlayer-rfr-Tw3Pxh8\n",
    "    \n",
    "    #ytPlayer-7EmwtpAI8cM\n",
    "                                                        \n",
    "    #ytPlayer-FRiiZRhapeU\n"
   ]
  },
  {
   "cell_type": "code",
   "execution_count": 71,
   "id": "8572ffa9",
   "metadata": {},
   "outputs": [
    {
     "data": {
      "text/plain": [
       "[]"
      ]
     },
     "execution_count": 71,
     "metadata": {},
     "output_type": "execute_result"
    }
   ],
   "source": [
    "videos"
   ]
  },
  {
   "cell_type": "code",
   "execution_count": 67,
   "id": "0ab6fe98",
   "metadata": {},
   "outputs": [],
   "source": [
    "from bs4 import BeautifulSoup\n",
    "import requests"
   ]
  },
  {
   "cell_type": "code",
   "execution_count": null,
   "id": "8ef3c899",
   "metadata": {},
   "outputs": [],
   "source": [
    "#main > div:nth-child(4) > section > article:nth-child(20) > div > div > a:nth-child(1) > h2\n",
    "\n",
    "#main > div:nth-child(4) > section > article:nth-child(19) > div > div > a:nth-child(1) > h2"
   ]
  }
 ],
 "metadata": {
  "kernelspec": {
   "display_name": "ironhack",
   "language": "python",
   "name": "ironhack"
  },
  "language_info": {
   "codemirror_mode": {
    "name": "ipython",
    "version": 3
   },
   "file_extension": ".py",
   "mimetype": "text/x-python",
   "name": "python",
   "nbconvert_exporter": "python",
   "pygments_lexer": "ipython3",
   "version": "3.8.5"
  }
 },
 "nbformat": 4,
 "nbformat_minor": 5
}
